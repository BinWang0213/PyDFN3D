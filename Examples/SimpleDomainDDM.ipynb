{
 "cells": [
  {
   "cell_type": "code",
   "execution_count": 1,
   "metadata": {},
   "outputs": [
    {
     "name": "stdout",
     "output_type": "stream",
     "text": [
      "Current Workdir= F:\\PyDFN3D\\Examples\n"
     ]
    }
   ],
   "source": [
    "%matplotlib inline\n",
    "%load_ext autoreload\n",
    "%autoreload 2\n",
    "\n",
    "#Find the releative path of Lib folder\n",
    "import os\n",
    "import sys\n",
    "module_path = os.path.abspath(os.path.join('..'))\n",
    "if module_path not in sys.path:\n",
    "    sys.path.append(module_path)\n",
    "\n",
    "import PyDFN3D as dfnpy\n",
    "\n",
    "work_dir=%pwd\n",
    "print('Current Workdir=',work_dir)"
   ]
  },
  {
   "cell_type": "code",
   "execution_count": 2,
   "metadata": {},
   "outputs": [
    {
     "name": "stdout",
     "output_type": "stream",
     "text": [
      "[Input] Reading \"..\\Datas\\DFN_Data_Case4_frac3_Well.dat\" DFN file....\n",
      "Dimension= 3\n",
      "Number of Points= 20\n",
      "Number of Fractures= 3\n",
      "Number of Intersections= 6\n",
      "Number of Wells= 1\n",
      "Fracture 0 has Intersections of  [0, 1, 2, 3]\n",
      "Fracture 1 has Intersections of  [0, 1, 4, 5]\n",
      "Fracture 2 has Intersections of  [2, 3, 4, 5]\n"
     ]
    }
   ],
   "source": [
    "Case1=dfnpy.DFN_Model()\n",
    "Case1.loadDFN('..\\Datas\\DFN_Data_Case4_frac3_Well.dat')"
   ]
  },
  {
   "cell_type": "code",
   "execution_count": 3,
   "metadata": {},
   "outputs": [
    {
     "data": {
      "text/plain": [
       "([array([-2., -1.,  0.]),\n",
       "  array([ 0., -1.,  0.]),\n",
       "  array([ 1., -1.,  0.]),\n",
       "  array([1., 0., 0.]),\n",
       "  array([1., 1., 0.]),\n",
       "  array([0., 1., 0.]),\n",
       "  array([-2.,  1.,  0.])],\n",
       " [array([-1.,  0.,  0.]),\n",
       "  array([0., 0., 0.]),\n",
       "  array([0., 0., 0.]),\n",
       "  array([1., 0., 0.]),\n",
       "  array([ 0., -1.,  0.]),\n",
       "  array([0., 0., 0.]),\n",
       "  array([0., 0., 0.]),\n",
       "  array([0., 1., 0.])])"
      ]
     },
     "execution_count": 3,
     "metadata": {},
     "output_type": "execute_result"
    }
   ],
   "source": [
    "Case1.Geometry.Get3DFracGeo(0)"
   ]
  },
  {
   "cell_type": "code",
   "execution_count": 4,
   "metadata": {},
   "outputs": [
    {
     "data": {
      "text/plain": [
       "[[[0, 19]]]"
      ]
     },
     "execution_count": 4,
     "metadata": {},
     "output_type": "execute_result"
    }
   ],
   "source": [
    "Case1.Geometry.WellFracIntersects"
   ]
  }
 ],
 "metadata": {
  "kernelspec": {
   "display_name": "Python 3",
   "language": "python",
   "name": "python3"
  },
  "language_info": {
   "codemirror_mode": {
    "name": "ipython",
    "version": 3
   },
   "file_extension": ".py",
   "mimetype": "text/x-python",
   "name": "python",
   "nbconvert_exporter": "python",
   "pygments_lexer": "ipython3",
   "version": "3.7.0"
  }
 },
 "nbformat": 4,
 "nbformat_minor": 2
}
